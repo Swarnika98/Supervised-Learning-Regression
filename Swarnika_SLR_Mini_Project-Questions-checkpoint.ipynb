{
 "cells": [
  {
   "cell_type": "markdown",
   "metadata": {},
   "source": [
    "<h1 class=\"list-group-item list-group-item-action active\" data-toggle=\"list\"  role=\"tab\" aria-controls=\"home\">SUPERVISED LEARNING REGRESSION MINI PROJECT </h1>\n",
    "     \n"
   ]
  },
  {
   "cell_type": "code",
   "execution_count": 481,
   "metadata": {},
   "outputs": [],
   "source": [
    "# import 'Pandas' \n",
    "import pandas as pd \n",
    "\n",
    "# import 'Numpy' \n",
    "import numpy as np\n",
    "\n",
    "# import subpackage of Matplotlib\n",
    "import matplotlib.pyplot as plt\n",
    "\n",
    "# import 'Seaborn' \n",
    "import seaborn as sns\n",
    "\n",
    "# to suppress warnings \n",
    "from warnings import filterwarnings\n",
    "filterwarnings('ignore')\n",
    "\n",
    "# display all columns of the dataframe\n",
    "pd.options.display.max_columns = None\n",
    "\n",
    "# display all rows of the dataframe\n",
    "pd.options.display.max_rows = None\n",
    " \n",
    "# to display the float values upto 6 decimal places     \n",
    "pd.options.display.float_format = '{:.6f}'.format\n",
    "\n",
    "# import train-test split \n",
    "from sklearn.model_selection import train_test_split\n",
    "\n",
    "# import various functions from statsmodel to perform linear regression\n",
    "import statsmodels\n",
    "import statsmodels.api as sm\n",
    "import statsmodels.stats.api as sms\n",
    "from statsmodels.compat import lzip\n",
    "from statsmodels.stats.outliers_influence import variance_inflation_factor\n",
    "from statsmodels.graphics.gofplots import qqplot\n",
    "from statsmodels.stats.anova import anova_lm\n",
    "from statsmodels.formula.api import ols\n",
    "from statsmodels.tools.eval_measures import rmse\n",
    "\n",
    "# import various functions from scipy\n",
    "from scipy import stats\n",
    "from scipy.stats import shapiro\n",
    "\n",
    "# 'metrics' from sklearn is used for evaluating the model performance\n",
    "from sklearn.metrics import mean_absolute_error\n",
    "from sklearn.metrics import mean_squared_error"
   ]
  },
  {
   "cell_type": "markdown",
   "metadata": {},
   "source": [
    "<h2 class=\"list-group-item list-group-item-action active\" >1. Read the dataset likes.csv </h2>"
   ]
  },
  {
   "cell_type": "code",
   "execution_count": 482,
   "metadata": {},
   "outputs": [],
   "source": [
    "df=pd.read_csv('Likes.csv')"
   ]
  },
  {
   "cell_type": "code",
   "execution_count": 483,
   "metadata": {},
   "outputs": [],
   "source": [
    "df.dropna(inplace=True)"
   ]
  },
  {
   "cell_type": "code",
   "execution_count": 484,
   "metadata": {},
   "outputs": [
    {
     "data": {
      "text/plain": [
       "userid                   0\n",
       "age                      0\n",
       "dob_day                  0\n",
       "dob_year                 0\n",
       "dob_month                0\n",
       "gender                   0\n",
       "tenure                   0\n",
       "friend_count             0\n",
       "friendships_initiated    0\n",
       "likes                    0\n",
       "likes_received           0\n",
       "mobile_likes             0\n",
       "mobile_likes_received    0\n",
       "www_likes                0\n",
       "www_likes_received       0\n",
       "dtype: int64"
      ]
     },
     "execution_count": 484,
     "metadata": {},
     "output_type": "execute_result"
    }
   ],
   "source": [
    "df.isnull().sum()"
   ]
  },
  {
   "cell_type": "markdown",
   "metadata": {},
   "source": [
    "<h2 class=\"list-group-item list-group-item-action active\" >2. Basic EDA to understand dataset </h2>\n",
    "\n",
    ">### 1.  Select more than five columns for EDA\n",
    "\n",
    " Step1: Each plot must Use the subplots \n",
    " \n",
    "             Plot 1: Histogram or bar, line and use suitable plots\n",
    "             \n",
    "             Plot2: Box plot \n",
    "             \n",
    " Step2: Write the inference is it data skewed or not\n",
    "\n",
    " Step3: Write the inference is it data having  outliers  or not\n",
    "\n",
    "\n"
   ]
  },
  {
   "cell_type": "code",
   "execution_count": 485,
   "metadata": {},
   "outputs": [
    {
     "data": {
      "text/plain": [
       "<AxesSubplot:xlabel='age', ylabel='Count'>"
      ]
     },
     "execution_count": 485,
     "metadata": {},
     "output_type": "execute_result"
    },
    {
     "data": {
      "image/png": "[encoded data removed]",
      "text/plain": [
       "<Figure size 432x288 with 1 Axes>"
      ]
     },
     "metadata": {
      "needs_background": "light"
     },
     "output_type": "display_data"
    }
   ],
   "source": [
    "# 1: checking for age column\n",
    "sns.histplot(df['age'],kde=True)"
   ]
  },
  {
   "cell_type": "code",
   "execution_count": 486,
   "metadata": {},
   "outputs": [
    {
     "name": "stdout",
     "output_type": "stream",
     "text": [
      "skewness 1.6307256057199968\n"
     ]
    },
    {
     "data": {
      "image/png": "[encoded data removed]",
      "text/plain": [
       "<Figure size 432x288 with 1 Axes>"
      ]
     },
     "metadata": {
      "needs_background": "light"
     },
     "output_type": "display_data"
    }
   ],
   "source": [
    "sns.boxplot(df['age'])\n",
    "print('skewness',df['age'].skew())"
   ]
  },
  {
   "cell_type": "code",
   "execution_count": 487,
   "metadata": {},
   "outputs": [],
   "source": [
    "#yes the column age is  positively skewed and there are significant amount of outliers in the column"
   ]
  },
  {
   "cell_type": "code",
   "execution_count": 488,
   "metadata": {},
   "outputs": [
    {
     "data": {
      "text/plain": [
       "<AxesSubplot:xlabel='tenure', ylabel='Count'>"
      ]
     },
     "execution_count": 488,
     "metadata": {},
     "output_type": "execute_result"
    },
    {
     "data": {
      "image/png": "[encoded data removed]",
      "text/plain": [
       "<Figure size 432x288 with 1 Axes>"
      ]
     },
     "metadata": {
      "needs_background": "light"
     },
     "output_type": "display_data"
    }
   ],
   "source": [
    "#2:checking for tenure column\n",
    "sns.histplot(df['tenure'],kde=True)"
   ]
  },
  {
   "cell_type": "code",
   "execution_count": 489,
   "metadata": {},
   "outputs": [
    {
     "name": "stdout",
     "output_type": "stream",
     "text": [
      "skewness 2.038302285466195\n"
     ]
    },
    {
     "data": {
      "image/png": "[encoded data removed]",
      "text/plain": [
       "<Figure size 432x288 with 1 Axes>"
      ]
     },
     "metadata": {
      "needs_background": "light"
     },
     "output_type": "display_data"
    }
   ],
   "source": [
    "sns.boxplot(df['tenure'])\n",
    "print('skewness',df['tenure'].skew())"
   ]
  },
  {
   "cell_type": "code",
   "execution_count": 490,
   "metadata": {},
   "outputs": [],
   "source": [
    "#the given variable is positively skewed and there are significant amount of outliers present in the column"
   ]
  },
  {
   "cell_type": "code",
   "execution_count": 491,
   "metadata": {},
   "outputs": [
    {
     "data": {
      "text/plain": [
       "<AxesSubplot:xlabel='dob_year', ylabel='Count'>"
      ]
     },
     "execution_count": 491,
     "metadata": {},
     "output_type": "execute_result"
    },
    {
     "data": {
      "image/png": "[encoded data removed]",
      "text/plain": [
       "<Figure size 432x288 with 1 Axes>"
      ]
     },
     "metadata": {
      "needs_background": "light"
     },
     "output_type": "display_data"
    }
   ],
   "source": [
    "#3:checking for birth of year column\n",
    "sns.histplot(df['dob_year'],kde=True)"
   ]
  },
  {
   "cell_type": "code",
   "execution_count": 492,
   "metadata": {},
   "outputs": [
    {
     "name": "stdout",
     "output_type": "stream",
     "text": [
      "-1.6307256057199984\n"
     ]
    },
    {
     "data": {
      "image/png": "[encoded data removed]",
      "text/plain": [
       "<Figure size 432x288 with 1 Axes>"
      ]
     },
     "metadata": {
      "needs_background": "light"
     },
     "output_type": "display_data"
    }
   ],
   "source": [
    "sns.boxplot(df['dob_year'])\n",
    "print(df['dob_year'].skew())"
   ]
  },
  {
   "cell_type": "code",
   "execution_count": 493,
   "metadata": {},
   "outputs": [],
   "source": [
    "#the given column is negatively skewed and there are outliers which need to be treated"
   ]
  },
  {
   "cell_type": "code",
   "execution_count": 494,
   "metadata": {},
   "outputs": [
    {
     "data": {
      "text/plain": [
       "<AxesSubplot:xlabel='likes', ylabel='Density'>"
      ]
     },
     "execution_count": 494,
     "metadata": {},
     "output_type": "execute_result"
    },
    {
     "data": {
      "image/png": "[encoded data removed]",
      "text/plain": [
       "<Figure size 1368x360 with 1 Axes>"
      ]
     },
     "metadata": {
      "needs_background": "light"
     },
     "output_type": "display_data"
    }
   ],
   "source": [
    "#4: checking for likes column\n",
    "plt.figure(figsize=[19,5])\n",
    "sns.kdeplot(df['likes'])"
   ]
  },
  {
   "cell_type": "code",
   "execution_count": 495,
   "metadata": {},
   "outputs": [
    {
     "data": {
      "text/plain": [
       "24.947660619875464"
      ]
     },
     "execution_count": 495,
     "metadata": {},
     "output_type": "execute_result"
    },
    {
     "data": {
      "image/png": "[encoded data removed]",
      "text/plain": [
       "<Figure size 432x288 with 1 Axes>"
      ]
     },
     "metadata": {
      "needs_background": "light"
     },
     "output_type": "display_data"
    }
   ],
   "source": [
    "sns.boxplot(df['likes'])\n",
    "df['likes'].skew()"
   ]
  },
  {
   "cell_type": "code",
   "execution_count": 496,
   "metadata": {},
   "outputs": [],
   "source": [
    "#the given column likes is positively skewed with so much rightskewness and outliers need to be rectified"
   ]
  },
  {
   "cell_type": "code",
   "execution_count": 497,
   "metadata": {},
   "outputs": [
    {
     "data": {
      "image/png": "[encoded data removed]",
      "text/plain": [
       "<Figure size 864x360 with 1 Axes>"
      ]
     },
     "metadata": {
      "needs_background": "light"
     },
     "output_type": "display_data"
    }
   ],
   "source": [
    "#5:checking for column mobile likes\n",
    "plt.figure(figsize=[12,5])\n",
    "df['mobile_likes_received'].value_counts().plot(kind='bar')\n",
    "plt.tight_layout()"
   ]
  },
  {
   "cell_type": "code",
   "execution_count": 498,
   "metadata": {},
   "outputs": [
    {
     "data": {
      "text/plain": [
       "18.55799536605876"
      ]
     },
     "execution_count": 498,
     "metadata": {},
     "output_type": "execute_result"
    },
    {
     "data": {
      "image/png": "[encoded data removed]",
      "text/plain": [
       "<Figure size 432x288 with 1 Axes>"
      ]
     },
     "metadata": {
      "needs_background": "light"
     },
     "output_type": "display_data"
    }
   ],
   "source": [
    "sns.boxplot(df['mobile_likes_received'])\n",
    "df['mobile_likes_received'].skew()"
   ]
  },
  {
   "cell_type": "code",
   "execution_count": 499,
   "metadata": {},
   "outputs": [],
   "source": [
    "#there is too much of  right skewness in the column and significant amount of outliers present which need to be treated\n"
   ]
  },
  {
   "cell_type": "markdown",
   "metadata": {},
   "source": [
    "### 2. Plot the heat map\n",
    "Step1: Write the inference on the dependent variable and independent variable having the most (Positive and Negative) correlation columns\n",
    "\n",
    "Step2: Write the inference on the correlation among independent variables\n",
    "\n",
    "​"
   ]
  },
  {
   "cell_type": "code",
   "execution_count": 500,
   "metadata": {},
   "outputs": [
    {
     "data": {
      "text/plain": [
       "<AxesSubplot:>"
      ]
     },
     "execution_count": 500,
     "metadata": {},
     "output_type": "execute_result"
    },
    {
     "data": {
      "image/png": "[encoded data removed]",
      "text/plain": [
       "<Figure size 1152x504 with 2 Axes>"
      ]
     },
     "metadata": {
      "needs_background": "light"
     },
     "output_type": "display_data"
    }
   ],
   "source": [
    "#here am taking likes as my target variable\n",
    "plt.figure(figsize=[16,7])\n",
    "sns.heatmap(df.corr(),annot=True)"
   ]
  },
  {
   "cell_type": "code",
   "execution_count": 511,
   "metadata": {},
   "outputs": [],
   "source": [
    "q=[]\n",
    "s=df.drop(['gender','userid','likes'],axis=1)\n",
    "for i in range(s.shape[1]):\n",
    "    q.append(variance_inflation_factor(s.values,i))"
   ]
  },
  {
   "cell_type": "code",
   "execution_count": 513,
   "metadata": {},
   "outputs": [
    {
     "data": {
      "text/plain": [
       "{'age': 5.342086742645415,\n",
       " 'dob_day': 1.0687410509814994,\n",
       " 'dob_year': 10.271820400573153,\n",
       " 'dob_month': 1.0735918456579212,\n",
       " 'tenure': 1.0555561468251773,\n",
       " 'friend_count': 2.7171988667126357,\n",
       " 'friendships_initiated': 2.708401197429285,\n",
       " 'likes_received': inf,\n",
       " 'mobile_likes': 1.0561180155495073,\n",
       " 'mobile_likes_received': inf,\n",
       " 'www_likes': 1.4613812530950276,\n",
       " 'www_likes_received': inf}"
      ]
     },
     "execution_count": 513,
     "metadata": {},
     "output_type": "execute_result"
    }
   ],
   "source": [
    "dict(zip(s.columns,q))"
   ]
  },
  {
   "cell_type": "code",
   "execution_count": 501,
   "metadata": {},
   "outputs": [],
   "source": [
    "#here the target variable has less amount of correlation with few columns \n",
    "#but there are same columns which are having good correlation\n",
    "#they are(likes,mobile_likes,mobile_likes_recieved,www_likes and www_likes_received)\n",
    "#the independent variables are fairely correlated but 2 varibales are highly negatively correlated(-1) age and dob year\n",
    "# the likes related variables are positively highly correlated \n",
    "#(likes,mobile_likes,mobile_likes_recieved,www_likes and www_likes_received)"
   ]
  },
  {
   "cell_type": "markdown",
   "metadata": {},
   "source": [
    "<h2 class=\"list-group-item list-group-item-action active\" >3.Split dataset into train and test,Scaling    </h2>\n",
    "\n",
    ">### 1. Split the dataset in dependent variable is [`likes`] and independent\n",
    "\n",
    ">### 2. Convert categorical variables to numeric variables\n",
    "\n",
    ">### 3. Scale the features \n",
    "\n",
    ">### 4. Split dataset into train(70%) and test(30%).How would you ascertain this statistically? \n",
    " "
   ]
  },
  {
   "cell_type": "code",
   "execution_count": 413,
   "metadata": {},
   "outputs": [],
   "source": [
    "#1. Split the dataset in dependent variable is [likes] and independent\n",
    "#dropping userid because is uniqe values\n",
    "X=df.drop(['likes','userid','gender'],axis=1)\n",
    "\n",
    "y=df['likes']"
   ]
  },
  {
   "cell_type": "code",
   "execution_count": 414,
   "metadata": {},
   "outputs": [
    {
     "data": {
      "text/plain": [
       "((2102, 12), (2102,))"
      ]
     },
     "execution_count": 414,
     "metadata": {},
     "output_type": "execute_result"
    }
   ],
   "source": [
    "X.shape,y.shape"
   ]
  },
  {
   "cell_type": "code",
   "execution_count": 415,
   "metadata": {},
   "outputs": [],
   "source": [
    "#2. Convert categorical variables to numeric variables\n",
    "a=pd.get_dummies(df['gender'],drop_first=True)"
   ]
  },
  {
   "cell_type": "code",
   "execution_count": 416,
   "metadata": {},
   "outputs": [
    {
     "data": {
      "text/html": [
       "<div>\n",
       "<style scoped>\n",
       "    .dataframe tbody tr th:only-of-type {\n",
       "        vertical-align: middle;\n",
       "    }\n",
       "\n",
       "    .dataframe tbody tr th {\n",
       "        vertical-align: top;\n",
       "    }\n",
       "\n",
       "    .dataframe thead th {\n",
       "        text-align: right;\n",
       "    }\n",
       "</style>\n",
       "<table border=\"1\" class=\"dataframe\">\n",
       "  <thead>\n",
       "    <tr style=\"text-align: right;\">\n",
       "      <th></th>\n",
       "      <th>age</th>\n",
       "      <th>dob_day</th>\n",
       "      <th>dob_year</th>\n",
       "      <th>dob_month</th>\n",
       "      <th>tenure</th>\n",
       "      <th>friend_count</th>\n",
       "      <th>friendships_initiated</th>\n",
       "      <th>likes_received</th>\n",
       "      <th>mobile_likes</th>\n",
       "      <th>mobile_likes_received</th>\n",
       "      <th>www_likes</th>\n",
       "      <th>www_likes_received</th>\n",
       "    </tr>\n",
       "  </thead>\n",
       "  <tbody>\n",
       "    <tr>\n",
       "      <th>0</th>\n",
       "      <td>13</td>\n",
       "      <td>2</td>\n",
       "      <td>2000</td>\n",
       "      <td>2</td>\n",
       "      <td>0</td>\n",
       "      <td>0</td>\n",
       "      <td>0</td>\n",
       "      <td>0</td>\n",
       "      <td>0</td>\n",
       "      <td>0</td>\n",
       "      <td>1</td>\n",
       "      <td>0</td>\n",
       "    </tr>\n",
       "    <tr>\n",
       "      <th>1</th>\n",
       "      <td>14</td>\n",
       "      <td>22</td>\n",
       "      <td>1999</td>\n",
       "      <td>1</td>\n",
       "      <td>104</td>\n",
       "      <td>0</td>\n",
       "      <td>0</td>\n",
       "      <td>0</td>\n",
       "      <td>0</td>\n",
       "      <td>0</td>\n",
       "      <td>1</td>\n",
       "      <td>0</td>\n",
       "    </tr>\n",
       "    <tr>\n",
       "      <th>2</th>\n",
       "      <td>19</td>\n",
       "      <td>18</td>\n",
       "      <td>1994</td>\n",
       "      <td>10</td>\n",
       "      <td>212</td>\n",
       "      <td>0</td>\n",
       "      <td>0</td>\n",
       "      <td>0</td>\n",
       "      <td>0</td>\n",
       "      <td>0</td>\n",
       "      <td>1</td>\n",
       "      <td>0</td>\n",
       "    </tr>\n",
       "    <tr>\n",
       "      <th>3</th>\n",
       "      <td>21</td>\n",
       "      <td>1</td>\n",
       "      <td>1992</td>\n",
       "      <td>1</td>\n",
       "      <td>328</td>\n",
       "      <td>0</td>\n",
       "      <td>0</td>\n",
       "      <td>0</td>\n",
       "      <td>0</td>\n",
       "      <td>0</td>\n",
       "      <td>1</td>\n",
       "      <td>0</td>\n",
       "    </tr>\n",
       "    <tr>\n",
       "      <th>4</th>\n",
       "      <td>23</td>\n",
       "      <td>10</td>\n",
       "      <td>1990</td>\n",
       "      <td>2</td>\n",
       "      <td>580</td>\n",
       "      <td>0</td>\n",
       "      <td>0</td>\n",
       "      <td>0</td>\n",
       "      <td>0</td>\n",
       "      <td>0</td>\n",
       "      <td>1</td>\n",
       "      <td>0</td>\n",
       "    </tr>\n",
       "  </tbody>\n",
       "</table>\n",
       "</div>"
      ],
      "text/plain": [
       "   age  dob_day  dob_year  dob_month  tenure  friend_count  \\\n",
       "0   13        2      2000          2       0             0   \n",
       "1   14       22      1999          1     104             0   \n",
       "2   19       18      1994         10     212             0   \n",
       "3   21        1      1992          1     328             0   \n",
       "4   23       10      1990          2     580             0   \n",
       "\n",
       "   friendships_initiated  likes_received  mobile_likes  mobile_likes_received  \\\n",
       "0                      0               0             0                      0   \n",
       "1                      0               0             0                      0   \n",
       "2                      0               0             0                      0   \n",
       "3                      0               0             0                      0   \n",
       "4                      0               0             0                      0   \n",
       "\n",
       "   www_likes  www_likes_received  \n",
       "0          1                   0  \n",
       "1          1                   0  \n",
       "2          1                   0  \n",
       "3          1                   0  \n",
       "4          1                   0  "
      ]
     },
     "execution_count": 416,
     "metadata": {},
     "output_type": "execute_result"
    }
   ],
   "source": [
    "X.head()"
   ]
  },
  {
   "cell_type": "code",
   "execution_count": 417,
   "metadata": {},
   "outputs": [],
   "source": [
    "#3. Scale the features\n",
    "from sklearn.preprocessing import StandardScaler\n",
    "ss=StandardScaler\n",
    "X.iloc[:, 0:] = X.iloc[:, 0:].apply(lambda rec: (rec - rec.mean()) / rec.std())\n"
   ]
  },
  {
   "cell_type": "code",
   "execution_count": 418,
   "metadata": {},
   "outputs": [
    {
     "data": {
      "text/plain": [
       "(2102, 1)"
      ]
     },
     "execution_count": 418,
     "metadata": {},
     "output_type": "execute_result"
    }
   ],
   "source": [
    "a.shape"
   ]
  },
  {
   "cell_type": "code",
   "execution_count": 419,
   "metadata": {},
   "outputs": [],
   "source": [
    "#scaled independent variable\n",
    "X=pd.concat([X,a],axis=1)"
   ]
  },
  {
   "cell_type": "code",
   "execution_count": 420,
   "metadata": {},
   "outputs": [],
   "source": [
    "#scaling target variable\n",
    "y=pd.Series(zscore(y))\n"
   ]
  },
  {
   "cell_type": "code",
   "execution_count": 421,
   "metadata": {},
   "outputs": [],
   "source": [
    "#4. Split dataset into train(70%) and test(30%).How would you ascertain this statistically?\n",
    "X_train,X_test,y_train,y_test=train_test_split(X,y,random_state=101,test_size=0.3)\n"
   ]
  },
  {
   "cell_type": "code",
   "execution_count": 422,
   "metadata": {},
   "outputs": [],
   "source": [
    "X_train = X_train.reset_index(drop=True)\n",
    "X_test = X_test.reset_index(drop=True)\n",
    "y_train = y_train.reset_index(drop=True)\n",
    "y_test = y_test.reset_index(drop=True)"
   ]
  },
  {
   "cell_type": "code",
   "execution_count": 423,
   "metadata": {},
   "outputs": [
    {
     "data": {
      "text/plain": [
       "(2102, 13)"
      ]
     },
     "execution_count": 423,
     "metadata": {},
     "output_type": "execute_result"
    }
   ],
   "source": [
    "X.shape"
   ]
  },
  {
   "cell_type": "code",
   "execution_count": 424,
   "metadata": {},
   "outputs": [
    {
     "data": {
      "text/plain": [
       "(2102,)"
      ]
     },
     "execution_count": 424,
     "metadata": {},
     "output_type": "execute_result"
    }
   ],
   "source": [
    "y.shape"
   ]
  },
  {
   "cell_type": "markdown",
   "metadata": {},
   "source": [
    "<h2 class=\"list-group-item list-group-item-action active\" >4.Model Building and Feature Selection using RFE(Recursive feature elimination)   </h2>\n",
    "\n",
    ">### 1. Use Linear Regression\n",
    "\n",
    ">### 2. Evaluation metrics like Rsqaure,Standard error/RMSE. Write the inference.\n",
    "\n",
    ">### 3. Feature selection using RFE\n",
    "\n",
    "Step1: Check the optimal number of features between 4 to 30\n",
    "\n",
    "Step2: RFE with n features(LinearRegression) \n",
    "\n",
    "Step3: Specify the number of features\n",
    "\n",
    "Step4: Fit with n features\n",
    "\n",
    "Step5: Select features selected by rfe_n      \n",
    "\n",
    "Step6:Training & test data for n selected columns        \n",
    "\n",
    "Step7: Add a constant to the model       \n",
    "\n",
    "Step8:Fit the ols model with n features\n",
    "\n",
    "Step9: Calculate evaluation metrics\n",
    "\n",
    "Step 10: Plot r2 and RMSE against n_features  \n",
    "\n",
    "Step11: Write your final inference.    \n",
    "\n",
    "\n",
    "\n",
    "\n",
    ">### 4. Model Bulding with optimal features count\n",
    "\n"
   ]
  },
  {
   "cell_type": "code",
   "execution_count": 425,
   "metadata": {},
   "outputs": [],
   "source": [
    "#1. Use Linear Regression\n",
    "from sklearn.linear_model import LinearRegression\n",
    "ll=LinearRegression()\n",
    "model=ll.fit(X_train,y_train)"
   ]
  },
  {
   "cell_type": "code",
   "execution_count": 432,
   "metadata": {},
   "outputs": [
    {
     "name": "stdout",
     "output_type": "stream",
     "text": [
      "R2 value for train data 1.0\n",
      "R2 value for test data 1.0\n",
      "std of predicted for train data 0.029974362510030165\n",
      "std of predicted for test data 0.019904091001120953\n",
      "RMSE value of train data 1.5209851737204942e-15\n",
      "RMSE value of test data 9.40472562050991e-16\n"
     ]
    }
   ],
   "source": [
    "#2. Evaluation metrics like Rsqaure,Standard error/RMSE. Write the inference.\n",
    "#we are getting R2 value as 1 which is not correct for train data as well as test data \n",
    "print('R2 value for train data',model.score(X_train,y_train))\n",
    "print('R2 value for test data',model.score(X_test,y_test))\n",
    "#the std error value \n",
    "print('std of predicted for train data',model.predict(X_train).std()/np.sqrt(len(X_train)))\n",
    "print('std of predicted for test data',model.predict(X_test).std()/np.sqrt(len(X_test)))\n",
    "#the RMSE is comming in negative  for both train and test\n",
    "print('RMSE value of train data',np.sqrt(mean_squared_error(y_train,model.predict(X_train))))\n",
    "print('RMSE value of test data',np.sqrt(mean_squared_error(y_test,model.predict(X_test))))\n",
    "#the value of rsquare RMSE are not valid bevause the r2 shows 1 the model is not\n",
    "#working properly more like overfitting and RMSE value seems in negative and std of predicted values are 1.149"
   ]
  },
  {
   "cell_type": "code",
   "execution_count": null,
   "metadata": {},
   "outputs": [],
   "source": []
  },
  {
   "cell_type": "code",
   "execution_count": 373,
   "metadata": {},
   "outputs": [],
   "source": [
    "#3. Feature selection using RFE"
   ]
  },
  {
   "cell_type": "code",
   "execution_count": 433,
   "metadata": {},
   "outputs": [
    {
     "data": {
      "text/plain": [
       "array([6, 1, 4, 1, 5, 3, 2, 1, 1, 1, 1, 1, 1])"
      ]
     },
     "execution_count": 433,
     "metadata": {},
     "output_type": "execute_result"
    }
   ],
   "source": [
    "from sklearn.feature_selection import RFE\n",
    "linearreg=LinearRegression()#step :2\n",
    "rfe=RFE(estimator=linearreg,n_features_to_select=(8))#we are taking 8 features (step:3)\n",
    "rfe_model=rfe.fit(X_train,y_train)\n",
    "rfe_model.ranking_"
   ]
  },
  {
   "cell_type": "code",
   "execution_count": 434,
   "metadata": {},
   "outputs": [
    {
     "data": {
      "text/plain": [
       "dob_day                  1\n",
       "dob_month                1\n",
       "likes_received           1\n",
       "mobile_likes             1\n",
       "mobile_likes_received    1\n",
       "www_likes                1\n",
       "www_likes_received       1\n",
       "male                     1\n",
       "dtype: int32"
      ]
     },
     "execution_count": 434,
     "metadata": {},
     "output_type": "execute_result"
    }
   ],
   "source": [
    "a=pd.Series(data=rfe_model.ranking_,index=X_train.columns)\n",
    "a[a==1]#are the variables to consider"
   ]
  },
  {
   "cell_type": "code",
   "execution_count": 435,
   "metadata": {},
   "outputs": [],
   "source": [
    "#building model with the vaiables which have been selected by RFE\n",
    "RFE_X=X[['dob_day'  ,'dob_month',  'likes_received','mobile_likes', 'mobile_likes_received' , 'www_likes' ,  'www_likes_received',  'male'] ]\n",
    "RFE_X=sm.add_constant(RFE_X)\n",
    "RFE_y=df['likes']"
   ]
  },
  {
   "cell_type": "code",
   "execution_count": 436,
   "metadata": {},
   "outputs": [],
   "source": [
    "#step6\n",
    "X_train,X_test,y_train,y_test=train_test_split(RFE_X,RFE_y,random_state=101,test_size=0.3)\n"
   ]
  },
  {
   "cell_type": "code",
   "execution_count": 447,
   "metadata": {},
   "outputs": [
    {
     "data": {
      "text/plain": [
       "((1471, 9), (631, 9), (1471,), (631,))"
      ]
     },
     "execution_count": 447,
     "metadata": {},
     "output_type": "execute_result"
    }
   ],
   "source": [
    "X_train.shape,X_test.shape,y_train.shape,y_test.shape"
   ]
  },
  {
   "cell_type": "code",
   "execution_count": 448,
   "metadata": {},
   "outputs": [],
   "source": [
    "X_train = X_train.reset_index(drop=True)\n",
    "X_test = X_test.reset_index(drop=True)\n",
    "y_train = y_train.reset_index(drop=True)\n",
    "y_test = y_test.reset_index(drop=True)"
   ]
  },
  {
   "cell_type": "code",
   "execution_count": 449,
   "metadata": {},
   "outputs": [],
   "source": [
    "RFE_model=sm.OLS(RFE_y,RFE_X).fit()"
   ]
  },
  {
   "cell_type": "code",
   "execution_count": 454,
   "metadata": {},
   "outputs": [
    {
     "name": "stdout",
     "output_type": "stream",
     "text": [
      "Rsquare value for train data 1.0\n",
      "Std for predicted values for train data 5.082187002855785\n",
      "Std for predicted values for test data 3.37629021680451\n",
      "RMSE value of train data 9.212001931369417e-13\n",
      "RMSE value of test data 9.345880204240036e-13\n"
     ]
    }
   ],
   "source": [
    "#here also the Rsquare is 1 there is singularity between  some independent vasriable and dependent variable \n",
    "print('Rsquare value for train data',RFE_model.rsquared)\n",
    "print('Std for predicted values for train data',RFE_model.predict(X_train).std()/np.sqrt(len(X_train)))\n",
    "print('Std for predicted values for test data',RFE_model.predict(X_test).std()/np.sqrt(len(X_test)))\n",
    "print('RMSE value of train data',np.sqrt(mean_squared_error(y_train,RFE_model.predict(X_train))))\n",
    "print('RMSE value of test data',np.sqrt(mean_squared_error(y_test,RFE_model.predict(X_test))))\n"
   ]
  },
  {
   "cell_type": "code",
   "execution_count": 455,
   "metadata": {},
   "outputs": [],
   "source": [
    "#by calculatinng the RMSE of Train and test they are almost similar compared to the train and test\n",
    "#of the full model it showed quite a lot difference where else for this model it shows little difference \n",
    "#but the model is overfitting with R2 value of 1 it is incorrect its comming for both full model and RFE selected variables model"
   ]
  },
  {
   "cell_type": "code",
   "execution_count": null,
   "metadata": {},
   "outputs": [],
   "source": []
  },
  {
   "cell_type": "markdown",
   "metadata": {},
   "source": [
    "<h2 class=\"list-group-item list-group-item-action active\" >5.Linear Regression Assumptions Validation</h2>\n",
    "\n",
    "\n",
    ">### 1. Linearity of the model\n",
    ">### 2. Homoscedasticity (equal variance) of residuals\n",
    ">### 3. Normality of residuals \n",
    ">### 4. Identifying Outliers/influential Cases"
   ]
  },
  {
   "cell_type": "code",
   "execution_count": 523,
   "metadata": {},
   "outputs": [],
   "source": [
    "q=[]\n",
    "s=df.drop(['gender','userid','likes'],axis=1)\n",
    "for i in range(s.shape[1]):\n",
    "    q.append(variance_inflation_factor(s.values,i))"
   ]
  },
  {
   "cell_type": "code",
   "execution_count": 524,
   "metadata": {},
   "outputs": [
    {
     "data": {
      "text/plain": [
       "{'age': 3.8814158744104126,\n",
       " 'dob_day': 2.908621046506674,\n",
       " 'dob_month': 3.3116844938921988,\n",
       " 'tenure': 1.883811512381794,\n",
       " 'friend_count': 2.6310701526587414,\n",
       " 'mobile_likes': 1.0231006735200636,\n",
       " 'www_likes': 1.0472661425276961}"
      ]
     },
     "execution_count": 524,
     "metadata": {},
     "output_type": "execute_result"
    }
   ],
   "source": [
    "dict(zip(s.columns,q))"
   ]
  },
  {
   "cell_type": "code",
   "execution_count": 517,
   "metadata": {},
   "outputs": [],
   "source": [
    "#removing  multicollerated varaibles\n",
    "df.drop(['dob_year','friendships_initiated','likes_received','mobile_likes_received','www_likes_received'],axis=1,inplace=True)"
   ]
  },
  {
   "cell_type": "code",
   "execution_count": 526,
   "metadata": {},
   "outputs": [],
   "source": [
    "X=df.drop(['likes','userid','gender'],axis=1)\n",
    "y=df['likes']\n",
    "a=pd.get_dummies(df['gender'],drop_first=True)\n",
    "X.iloc[:, 0:] = X.iloc[:, 0:].apply(lambda rec: (rec - rec.mean()) / rec.std())\n",
    "X=pd.concat([X,a],axis=1)\n",
    "y=pd.Series(zscore(y))"
   ]
  },
  {
   "cell_type": "code",
   "execution_count": 527,
   "metadata": {},
   "outputs": [],
   "source": [
    "X_train,X_test,y_train,y_test=train_test_split(X,y,random_state=101,test_size=0.3)"
   ]
  },
  {
   "cell_type": "code",
   "execution_count": 528,
   "metadata": {},
   "outputs": [],
   "source": [
    "X_train = X_train.reset_index(drop=True)\n",
    "X_test = X_test.reset_index(drop=True)\n",
    "y_train = y_train.reset_index(drop=True)\n",
    "y_test = y_test.reset_index(drop=True)"
   ]
  },
  {
   "cell_type": "code",
   "execution_count": 535,
   "metadata": {},
   "outputs": [],
   "source": [
    "ll=LinearRegression()\n",
    "model=ll.fit(X_train,y_train)"
   ]
  },
  {
   "cell_type": "code",
   "execution_count": 536,
   "metadata": {},
   "outputs": [],
   "source": [
    "predicted_values=model.predict(X_test)"
   ]
  },
  {
   "cell_type": "code",
   "execution_count": 537,
   "metadata": {},
   "outputs": [],
   "source": [
    "residual=(y_test-predicted_values)"
   ]
  },
  {
   "cell_type": "code",
   "execution_count": 540,
   "metadata": {},
   "outputs": [
    {
     "data": {
      "text/plain": [
       "<AxesSubplot:>"
      ]
     },
     "execution_count": 540,
     "metadata": {},
     "output_type": "execute_result"
    },
    {
     "data": {
      "image/png": "[encoded data removed]",
      "text/plain": [
       "<Figure size 432x288 with 1 Axes>"
      ]
     },
     "metadata": {
      "needs_background": "light"
     },
     "output_type": "display_data"
    }
   ],
   "source": [
    "sns.regplot(x=residual,y=predicted_values)\n",
    "#here the points are not spread randomly from the trend line so it is not linear"
   ]
  },
  {
   "cell_type": "code",
   "execution_count": null,
   "metadata": {},
   "outputs": [],
   "source": []
  },
  {
   "cell_type": "code",
   "execution_count": 542,
   "metadata": {},
   "outputs": [
    {
     "data": {
      "text/plain": [
       "1.951845706704371"
      ]
     },
     "execution_count": 542,
     "metadata": {},
     "output_type": "execute_result"
    }
   ],
   "source": [
    "from statsmodels.stats.stattools import durbin_watson\n",
    "#this test is used to check the model is autocorrelated or not\n",
    "durbin_watson(residual)#here residual is used because it is the error -> y-ycap \n",
    "#the values for durbin watson range from 0 to 4 \n",
    "#where 2 indicating 0 autocorrelation\n",
    "# the value < 2 means positive autocorrelation and >2 mean negative autocorrelation\n",
    "#this shows the autocorrelation is positively autocorrelated"
   ]
  },
  {
   "cell_type": "code",
   "execution_count": 546,
   "metadata": {},
   "outputs": [
    {
     "data": {
      "image/png": "[encoded data removed]",
      "text/plain": [
       "<Figure size 432x288 with 1 Axes>"
      ]
     },
     "execution_count": 546,
     "metadata": {},
     "output_type": "execute_result"
    },
    {
     "data": {
      "image/png": "[encoded data removed]",
      "text/plain": [
       "<Figure size 432x288 with 1 Axes>"
      ]
     },
     "metadata": {
      "needs_background": "light"
     },
     "output_type": "display_data"
    }
   ],
   "source": [
    "shapiro(residual)\n",
    "#since p value is less than alpha we fail to reject H0-> the residuals are normally distributed\n",
    "#also showing a qqplot\n",
    "qqplot(residual,line='r')\n",
    "#here the points are fairly away from the trend line this shows the residuals are normally distributed"
   ]
  },
  {
   "cell_type": "code",
   "execution_count": 547,
   "metadata": {},
   "outputs": [],
   "source": [
    "#to check for influential outliers we will take 3 std of data and conduct the plot after training the datd"
   ]
  },
  {
   "cell_type": "code",
   "execution_count": 558,
   "metadata": {},
   "outputs": [],
   "source": [
    "df.head()\n",
    "df['gender']=pd.get_dummies(df['gender'],drop_first=True)"
   ]
  },
  {
   "cell_type": "code",
   "execution_count": 561,
   "metadata": {},
   "outputs": [],
   "source": [
    "Q1 = df.quantile(0.25)\n",
    "Q3 = df.quantile(0.75)\n",
    "IQR = Q3 - Q1\n",
    "df= df[~((df< (Q1 - 1.5 * IQR)) | (df> (Q3 + 1.5 * IQR))).any(axis=1)]\n"
   ]
  },
  {
   "cell_type": "code",
   "execution_count": 564,
   "metadata": {},
   "outputs": [
    {
     "data": {
      "text/html": [
       "<div>\n",
       "<style scoped>\n",
       "    .dataframe tbody tr th:only-of-type {\n",
       "        vertical-align: middle;\n",
       "    }\n",
       "\n",
       "    .dataframe tbody tr th {\n",
       "        vertical-align: top;\n",
       "    }\n",
       "\n",
       "    .dataframe thead th {\n",
       "        text-align: right;\n",
       "    }\n",
       "</style>\n",
       "<table border=\"1\" class=\"dataframe\">\n",
       "  <thead>\n",
       "    <tr style=\"text-align: right;\">\n",
       "      <th></th>\n",
       "      <th>userid</th>\n",
       "      <th>age</th>\n",
       "      <th>dob_day</th>\n",
       "      <th>dob_month</th>\n",
       "      <th>gender</th>\n",
       "      <th>tenure</th>\n",
       "      <th>friend_count</th>\n",
       "      <th>likes</th>\n",
       "      <th>mobile_likes</th>\n",
       "      <th>www_likes</th>\n",
       "    </tr>\n",
       "  </thead>\n",
       "  <tbody>\n",
       "    <tr>\n",
       "      <th>0</th>\n",
       "      <td>1098638</td>\n",
       "      <td>13</td>\n",
       "      <td>2</td>\n",
       "      <td>2</td>\n",
       "      <td>1</td>\n",
       "      <td>0</td>\n",
       "      <td>0</td>\n",
       "      <td>1</td>\n",
       "      <td>0</td>\n",
       "      <td>1</td>\n",
       "    </tr>\n",
       "    <tr>\n",
       "      <th>1</th>\n",
       "      <td>2063204</td>\n",
       "      <td>14</td>\n",
       "      <td>22</td>\n",
       "      <td>1</td>\n",
       "      <td>1</td>\n",
       "      <td>104</td>\n",
       "      <td>0</td>\n",
       "      <td>1</td>\n",
       "      <td>0</td>\n",
       "      <td>1</td>\n",
       "    </tr>\n",
       "    <tr>\n",
       "      <th>2</th>\n",
       "      <td>1579594</td>\n",
       "      <td>19</td>\n",
       "      <td>18</td>\n",
       "      <td>10</td>\n",
       "      <td>0</td>\n",
       "      <td>212</td>\n",
       "      <td>0</td>\n",
       "      <td>1</td>\n",
       "      <td>0</td>\n",
       "      <td>1</td>\n",
       "    </tr>\n",
       "    <tr>\n",
       "      <th>3</th>\n",
       "      <td>1979672</td>\n",
       "      <td>21</td>\n",
       "      <td>1</td>\n",
       "      <td>1</td>\n",
       "      <td>1</td>\n",
       "      <td>328</td>\n",
       "      <td>0</td>\n",
       "      <td>1</td>\n",
       "      <td>0</td>\n",
       "      <td>1</td>\n",
       "    </tr>\n",
       "    <tr>\n",
       "      <th>4</th>\n",
       "      <td>1344831</td>\n",
       "      <td>23</td>\n",
       "      <td>10</td>\n",
       "      <td>2</td>\n",
       "      <td>1</td>\n",
       "      <td>580</td>\n",
       "      <td>0</td>\n",
       "      <td>1</td>\n",
       "      <td>0</td>\n",
       "      <td>1</td>\n",
       "    </tr>\n",
       "  </tbody>\n",
       "</table>\n",
       "</div>"
      ],
      "text/plain": [
       "    userid  age  dob_day  dob_month  gender  tenure  friend_count  likes  \\\n",
       "0  1098638   13        2          2       1       0             0      1   \n",
       "1  2063204   14       22          1       1     104             0      1   \n",
       "2  1579594   19       18         10       0     212             0      1   \n",
       "3  1979672   21        1          1       1     328             0      1   \n",
       "4  1344831   23       10          2       1     580             0      1   \n",
       "\n",
       "   mobile_likes  www_likes  \n",
       "0             0          1  \n",
       "1             0          1  \n",
       "2             0          1  \n",
       "3             0          1  \n",
       "4             0          1  "
      ]
     },
     "execution_count": 564,
     "metadata": {},
     "output_type": "execute_result"
    }
   ],
   "source": [
    "df.head()"
   ]
  },
  {
   "cell_type": "code",
   "execution_count": 565,
   "metadata": {},
   "outputs": [],
   "source": [
    "X=df.drop(['likes','userid'],axis=1)\n",
    "y=df['likes']\n",
    "X.iloc[:, 0:] = X.iloc[:, 0:].apply(lambda rec: (rec - rec.mean()) / rec.std())\n",
    "y=pd.Series(zscore(y))"
   ]
  },
  {
   "cell_type": "code",
   "execution_count": 570,
   "metadata": {},
   "outputs": [],
   "source": [
    "X_train,X_test,y_train,y_test=train_test_split(X,y,random_state=101,test_size=0.3)"
   ]
  },
  {
   "cell_type": "code",
   "execution_count": 571,
   "metadata": {},
   "outputs": [],
   "source": [
    "X_train = X_train.reset_index(drop=True)\n",
    "X_test = X_test.reset_index(drop=True)\n",
    "y_train = y_train.reset_index(drop=True)\n",
    "y_test = y_test.reset_index(drop=True)"
   ]
  },
  {
   "cell_type": "code",
   "execution_count": 572,
   "metadata": {},
   "outputs": [],
   "source": [
    "ll=LinearRegression()\n",
    "model=ll.fit(X_train,y_train)"
   ]
  },
  {
   "cell_type": "code",
   "execution_count": 573,
   "metadata": {},
   "outputs": [],
   "source": [
    "predicted_values=model.predict(X_test)"
   ]
  },
  {
   "cell_type": "code",
   "execution_count": 574,
   "metadata": {},
   "outputs": [],
   "source": [
    "residual=(y_test-predicted_values)"
   ]
  },
  {
   "cell_type": "code",
   "execution_count": 576,
   "metadata": {},
   "outputs": [
    {
     "data": {
      "image/png": "[encoded data removed]",
      "text/plain": [
       "<Figure size 432x288 with 1 Axes>"
      ]
     },
     "execution_count": 576,
     "metadata": {},
     "output_type": "execute_result"
    },
    {
     "data": {
      "image/png": "[encoded data removed]",
      "text/plain": [
       "<Figure size 432x288 with 1 Axes>"
      ]
     },
     "metadata": {
      "needs_background": "light"
     },
     "output_type": "display_data"
    }
   ],
   "source": [
    "qqplot(residual,line='r')\n",
    "#here after removing the outliers the points are touching the trend line"
   ]
  },
  {
   "cell_type": "code",
   "execution_count": 579,
   "metadata": {},
   "outputs": [
    {
     "data": {
      "text/plain": [
       "<AxesSubplot:>"
      ]
     },
     "execution_count": 579,
     "metadata": {},
     "output_type": "execute_result"
    },
    {
     "data": {
      "image/png": "[encoded data removed]",
      "text/plain": [
       "<Figure size 432x288 with 1 Axes>"
      ]
     },
     "metadata": {
      "needs_background": "light"
     },
     "output_type": "display_data"
    }
   ],
   "source": [
    "#after removing the outlieres the distribution is scattered between the predicted and residuals\n",
    "sns.regplot(x=residual,y=predicted_values)"
   ]
  },
  {
   "cell_type": "markdown",
   "metadata": {},
   "source": [
    "<h2 class=\"list-group-item list-group-item-action active\" >6.Rebuilding the Model: Feature Selection using RFE & K-Fold Cross Validation</h2>\n",
    "\n",
    "\n",
    ">### A. Finding optimal feature count using RFE and plot the r2 and RMSE against n_features.\n",
    "\n",
    ">### B. K-Fold Cross Validation"
   ]
  },
  {
   "cell_type": "code",
   "execution_count": 581,
   "metadata": {},
   "outputs": [],
   "source": [
    "X=df.drop(['likes','userid'],axis=1)\n",
    "y=df['likes']\n",
    "X.iloc[:, 0:] = X.iloc[:, 0:].apply(lambda rec: (rec - rec.mean()) / rec.std())\n",
    "y=pd.Series(zscore(y))"
   ]
  },
  {
   "cell_type": "code",
   "execution_count": 582,
   "metadata": {},
   "outputs": [],
   "source": []
  },
  {
   "cell_type": "code",
   "execution_count": 583,
   "metadata": {},
   "outputs": [],
   "source": [
    "X_train = X_train.reset_index(drop=True)\n",
    "X_test = X_test.reset_index(drop=True)\n",
    "y_train = y_train.reset_index(drop=True)\n",
    "y_test = y_test.reset_index(drop=True)"
   ]
  },
  {
   "cell_type": "code",
   "execution_count": 587,
   "metadata": {},
   "outputs": [
    {
     "data": {
      "text/plain": [
       "array([1, 3, 1, 2, 1, 1, 1, 1])"
      ]
     },
     "execution_count": 587,
     "metadata": {},
     "output_type": "execute_result"
    }
   ],
   "source": [
    "linearreg=LinearRegression()\n",
    "rfe=RFE(estimator=linearreg,n_features_to_select=6)\n",
    "rfe_model=rfe.fit(X,y)\n",
    "rfe_model.ranking_"
   ]
  },
  {
   "cell_type": "code",
   "execution_count": 588,
   "metadata": {},
   "outputs": [
    {
     "data": {
      "text/plain": [
       "age             1\n",
       "dob_month       1\n",
       "tenure          1\n",
       "friend_count    1\n",
       "mobile_likes    1\n",
       "www_likes       1\n",
       "dtype: int32"
      ]
     },
     "execution_count": 588,
     "metadata": {},
     "output_type": "execute_result"
    }
   ],
   "source": [
    "a=pd.Series(data=rfe_model.ranking_,index=X_train.columns)\n",
    "a[a==1]#are the variables to consider"
   ]
  },
  {
   "cell_type": "code",
   "execution_count": 590,
   "metadata": {},
   "outputs": [],
   "source": [
    "#building the model with the considered varibales\n",
    "X=df.drop(['likes','userid','dob_day','gender'],axis=1)\n",
    "y=df['likes']\n",
    "X.iloc[:, 0:] = X.iloc[:, 0:].apply(lambda rec: (rec - rec.mean()) / rec.std())\n",
    "y=pd.Series(zscore(y))"
   ]
  },
  {
   "cell_type": "code",
   "execution_count": 592,
   "metadata": {},
   "outputs": [],
   "source": [
    "X_train,X_test,y_train,y_test=train_test_split(X,y,random_state=101,test_size=0.3)"
   ]
  },
  {
   "cell_type": "code",
   "execution_count": 595,
   "metadata": {},
   "outputs": [],
   "source": [
    "X_train = X_train.reset_index(drop=True)\n",
    "X_test = X_test.reset_index(drop=True)\n",
    "y_train = y_train.reset_index(drop=True)\n",
    "y_test = y_test.reset_index(drop=True)"
   ]
  },
  {
   "cell_type": "code",
   "execution_count": 596,
   "metadata": {},
   "outputs": [],
   "source": [
    "model=sm.OLS(y_train,X_train).fit()"
   ]
  },
  {
   "cell_type": "code",
   "execution_count": 603,
   "metadata": {},
   "outputs": [
    {
     "data": {
      "text/plain": [
       "1.0"
      ]
     },
     "execution_count": 603,
     "metadata": {},
     "output_type": "execute_result"
    }
   ],
   "source": [
    "model.rsquared"
   ]
  },
  {
   "cell_type": "code",
   "execution_count": 602,
   "metadata": {},
   "outputs": [],
   "source": [
    "RMSE=np.sqrt(mean_squared_error(y_test,model.predict(X_test)))"
   ]
  },
  {
   "cell_type": "code",
   "execution_count": 605,
   "metadata": {},
   "outputs": [
    {
     "data": {
      "text/plain": [
       "array([1., 1., 1., 1., 1.])"
      ]
     },
     "execution_count": 605,
     "metadata": {},
     "output_type": "execute_result"
    }
   ],
   "source": [
    "from sklearn.model_selection import cross_val_score\n",
    "X=X\n",
    "y=y\n",
    "Xtrain,Xtest,ytrain,ytest=train_test_split(X,y,test_size=0.3,random_state=10)\n",
    "cross_score= cross_val_score(estimator=LinearRegression(),X=Xtrain,y=ytrain,cv=5,scoring='r2')\n",
    "cross_score"
   ]
  },
  {
   "cell_type": "code",
   "execution_count": null,
   "metadata": {},
   "outputs": [],
   "source": []
  }
 ],
 "metadata": {
  "kernelspec": {
   "display_name": "Python 3 (ipykernel)",
   "language": "python",
   "name": "python3"
  },
  "language_info": {
   "codemirror_mode": {
    "name": "ipython",
    "version": 3
   },
   "file_extension": ".py",
   "mimetype": "text/x-python",
   "name": "python",
   "nbconvert_exporter": "python",
   "pygments_lexer": "ipython3",
   "version": "3.8.12"
  }
 },
 "nbformat": 4,
 "nbformat_minor": 4
}
